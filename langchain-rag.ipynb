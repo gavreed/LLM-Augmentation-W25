{
 "cells": [
  {
   "cell_type": "markdown",
   "metadata": {},
   "source": [
    "# Retrieval Augmented Generation with LangChain"
   ]
  },
  {
   "cell_type": "markdown",
   "metadata": {},
   "source": [
    "In this notebook, we'll build some simple naive RAG with LangChain. We will leverage OpenAI for embeddings and LLM responses, and will use the [FAISS](https://engineering.fb.com/2017/03/29/data-infrastructure/faiss-a-library-for-efficient-similarity-search/) vector database."
   ]
  },
  {
   "cell_type": "code",
   "execution_count": 2,
   "metadata": {},
   "outputs": [],
   "source": [
    "from operator import itemgetter\n",
    "import openai\n",
    "import faiss\n",
    "import os\n",
    "from langchain_community.vectorstores import FAISS\n",
    "from langchain_core.output_parsers import StrOutputParser\n",
    "from langchain.prompts import PromptTemplate\n",
    "from langchain_core.runnables import RunnablePassthrough\n",
    "from langchain_community.chat_models import ChatOpenAI\n",
    "from langchain_community.embeddings import OpenAIEmbeddings\n",
    "from dotenv import load_dotenv\n",
    "load_dotenv()\n",
    "api_key = os.getenv(\"OPENAI_API_KEY\")\n",
    "\n"
   ]
  },
  {
   "cell_type": "markdown",
   "metadata": {},
   "source": [
    "## Naive RAG"
   ]
  },
  {
   "cell_type": "markdown",
   "metadata": {},
   "source": [
    "The below cells show a very simple version of RAG, without a document. We simply pass in a sentence, and have the LLM generate a response based on that sentence."
   ]
  },
  {
   "cell_type": "code",
   "execution_count": 4,
   "metadata": {},
   "outputs": [],
   "source": [
    "vectorstore = FAISS.from_texts(\n",
    "    [\"Addy ran to CCRB\"], embedding=OpenAIEmbeddings(api_key = api_key)\n",
    ")\n",
    "\n",
    "\n",
    "retriever = vectorstore.as_retriever()\n",
    "\n",
    "template = \"\"\"Answer the question based only on the following context:\n",
    "{context}\n",
    "\n",
    "Question: {question}\n",
    "\"\"\"\n",
    "prompt = PromptTemplate.from_template(template)\n",
    "\n",
    "model = ChatOpenAI(api_key= api_key)"
   ]
  },
  {
   "cell_type": "code",
   "execution_count": 5,
   "metadata": {},
   "outputs": [],
   "source": [
    "chain = (\n",
    "    {\"context\": retriever, \"question\": RunnablePassthrough()}\n",
    "    | prompt\n",
    "    | model\n",
    "    | StrOutputParser()\n",
    ")\n",
    "\n"
   ]
  },
  {
   "cell_type": "code",
   "execution_count": 6,
   "metadata": {},
   "outputs": [
    {
     "data": {
      "text/plain": [
       "'Addy is a person.'"
      ]
     },
     "execution_count": 6,
     "metadata": {},
     "output_type": "execute_result"
    }
   ],
   "source": [
    "chain.invoke(\"who is addy?\")"
   ]
  },
  {
   "cell_type": "code",
   "execution_count": 7,
   "metadata": {},
   "outputs": [],
   "source": [
    "template = \"\"\"Answer the question based only on the following context:\n",
    "{context}\n",
    "\n",
    "Question: {question}\n",
    "\n",
    "Answer in the following language: {language}\n",
    "\"\"\"\n",
    "prompt = PromptTemplate.from_template(template)\n",
    "\n",
    "chain = (\n",
    "    {\n",
    "        \"context\": itemgetter(\"question\") | retriever,\n",
    "        \"question\": itemgetter(\"question\"),\n",
    "        \"language\": itemgetter(\"language\"),\n",
    "    }\n",
    "    | prompt\n",
    "    | model\n",
    "    | StrOutputParser()\n",
    ")"
   ]
  },
  {
   "cell_type": "code",
   "execution_count": 8,
   "metadata": {},
   "outputs": [
    {
     "data": {
      "text/plain": [
       "'Addy corse al CCRB.'"
      ]
     },
     "execution_count": 8,
     "metadata": {},
     "output_type": "execute_result"
    }
   ],
   "source": [
    "chain.invoke({\"question\": \"where did addy run to\", \"language\": \"italian\"})"
   ]
  },
  {
   "cell_type": "markdown",
   "metadata": {},
   "source": [
    "### Naive RAG with Documents"
   ]
  },
  {
   "cell_type": "markdown",
   "metadata": {},
   "source": [
    "Now, we will perform RAG over an Environmental Science text. You can find the PDF in the [Drive](https://drive.google.com/drive/folders/1EBnXiHcnpZNQ3IWwXOFQLbRJCVQG4sXb?usp=drive_link)."
   ]
  },
  {
   "cell_type": "code",
   "execution_count": 9,
   "metadata": {},
   "outputs": [],
   "source": [
    "from langchain_community.document_loaders import PyPDFLoader\n",
    "from langchain.text_splitter import RecursiveCharacterTextSplitter\n",
    "from langchain_core.output_parsers import StrOutputParser"
   ]
  },
  {
   "cell_type": "code",
   "execution_count": 10,
   "metadata": {},
   "outputs": [
    {
     "name": "stdout",
     "output_type": "stream",
     "text": [
      "form the hydrosphere, the air constitutes the atmosphere, and the biosphere\n",
      "contains the entire community of living organisms.\n",
      "Materials move cyclically among these spheres. They originate in the rocks\n",
      "(lithosphere) and are released by weathering or by volcanism. They enter\n",
      "water (hydrosphere) from where those serving as nutrients are taken up\n",
      "by plants and from there enter animals and other organisms (biosphere).\n",
      "From living organisms they may enter the air (atmosphere) or water\n",
      "(hydrosphere). Eventually they enter the oceans (hydrosphere), where\n",
      "they are taken up by marine organisms (biosphere). These return them to\n",
      "the air (atmosphere), from where they are washed to the ground by rain,\n",
      "thus returning to the land.\n",
      "The idea that biogeochemical cycles are components of an overall system raises an obvious question:\n",
      "what drives this system? It used to be thought that the global system is purely mechanical, driven by\n",
      "physical forces, and, indeed, this is the way it can seem. Volcanoes, from which atmospheric gases\n",
      "and igneous rocks erupt, are purely physical phenomena. The movement of crustal plates, weathering\n",
      "of rocks, condensation of water vapour in cooling air to form clouds leading to precipitation—all\n",
      "these can be explained in purely physical terms and they carry with them the substances needed to\n",
      "sustain life. Organisms simply grab what they need as it passes, modifying their requirements and\n",
      "strategies for satisfying them as best they can when conditions change.\n"
     ]
    }
   ],
   "source": [
    "loader = PyPDFLoader(\"environmental_sci.pdf\")\n",
    "\n",
    "# The text splitter is used to split the document into chunks\n",
    "# Mess with the parameters to see how it affects the output\n",
    "text_splitter = RecursiveCharacterTextSplitter(\n",
    "    chunk_size=2000,\n",
    "    chunk_overlap=100,\n",
    "    length_function=len,\n",
    "    is_separator_regex=False,\n",
    ")\n",
    "\n",
    "chunks = loader.load_and_split(text_splitter=text_splitter)\n",
    "\n",
    "print(chunks[25].page_content)"
   ]
  },
  {
   "cell_type": "code",
   "execution_count": 19,
   "metadata": {},
   "outputs": [
    {
     "name": "stdout",
     "output_type": "stream",
     "text": [
      "page_content='4 Biosphere 137\n",
      "32. Biosphere, biomes, biogeography 137\n",
      "33. Major biomes 141\n",
      "34. Nutrient cycles 147\n",
      "35. Respiration and photosynthesis 151\n",
      "36. Trophic relationships 151\n",
      "37. Energy, numbers, biomass 160\n",
      "38. Ecosystems 163\n",
      "39. Succession and climax 168\n",
      "40. Arrested successions 172\n",
      "41. Colonization 176\n",
      "42. Stability, instability, and reproductive strategies 179\n",
      "43. Simplicity and diversity 183\n",
      "44. Homoeostasis, feedback, regulation 188\n",
      "45. Limits of tolerance 192\n",
      "Further reading 197\n",
      "References 197\n",
      "5 Biological Resources 200\n",
      "46. Evolution 200\n",
      "47. Evolutionary strategies and game theory 206\n",
      "48. Adaptation 210\n",
      "49. Dispersal mechanisms 214\n",
      "50. Wildlife species and habitats 218\n",
      "51. Biodiversity 222\n",
      "52. Fisheries 227\n",
      "53. Forests 233\n",
      "54. Farming for food and fibre 239\n",
      "55. Human populations and demographic change 249\n",
      "56. Genetic engineering 250\n",
      "Further reading 257\n",
      "Notes 257\n",
      "References 258\n",
      "6 Environmental Management 261\n",
      "57. Wildlife conservation 261\n",
      "58. Zoos, nature reserves, wilderness 265\n",
      "59. Pest control 269\n",
      "60. Restoration ecology 274\n",
      "61. World conservation strategies 237\n",
      "62. Pollution control 281\n",
      "63 Hazardous waste 287\n",
      "64. Transnational pollution 288\n",
      "Further reading 296\n",
      "References 296\n",
      "End of book summary 298\n",
      "Glossary 300\n",
      "Bibliography 307\n",
      "Index 316\n",
      "vi / Contents' metadata={'source': 'environmental_sci.pdf', 'page': 6, 'page_label': 'vi'}\n"
     ]
    }
   ],
   "source": [
    "len(chunks)\n",
    "print(chunks[4])"
   ]
  },
  {
   "cell_type": "code",
   "execution_count": 11,
   "metadata": {},
   "outputs": [],
   "source": [
    "# We will now use the from_documents method to create a vectorstore from the chunks\n",
    "vectorstore = FAISS.from_documents(\n",
    "    chunks, embedding=OpenAIEmbeddings(api_key =api_key)\n",
    ")\n",
    "\n",
    "retriever = vectorstore.as_retriever(k=5)\n",
    "\n",
    "template = \"\"\"Answer the question based only on the following context:\n",
    "{context}\n",
    "\n",
    "Question: {question}\n",
    "\"\"\"\n",
    "prompt = PromptTemplate.from_template(template)"
   ]
  },
  {
   "cell_type": "code",
   "execution_count": 12,
   "metadata": {},
   "outputs": [],
   "source": [
    "chain = (\n",
    "    {\"context\": retriever, \"question\": RunnablePassthrough()}\n",
    "    | prompt\n",
    "    | model\n",
    "    | StrOutputParser()\n",
    ")"
   ]
  },
  {
   "cell_type": "code",
   "execution_count": 13,
   "metadata": {},
   "outputs": [
    {
     "name": "stdout",
     "output_type": "stream",
     "text": [
      "46 / Basics of Environmental Science\n",
      "atmospheric greenhouse effect is real and important, and the gases which cause it are justly known\n",
      "as ‘greenhouse gases’.\n",
      "Both the global climate and atmospheric concentrations of greenhouse gases vary from time to time.\n",
      "Studies of air trapped in bubbles inside ice cores from Greenland and from the Russian Vostok\n",
      "station in Antarctica have revealed a clear and direct relationship between these variations and air\n",
      "temperature, in the case of the Vostok cores back to about 160 000 years ago. The correlation is\n",
      "convincing, although it is possible that the fluctuating greenhouse-gas concentration is an effect of\n",
      "temperature change rather than the cause of it. As temperatures rose at the end of the last ice age, the\n",
      "increase in the atmospheric concentration of carbon dioxide lagged behind the temperature (CALDER,\n",
      "1999) and so carbon dioxide cannot have been the cause of the warming. There is also evidence that\n",
      "the carbon dioxide concentration was far from constant prior to the start of the Industrial Revolution\n",
      "(WAGNER ET AL., 1999). Carbon dioxide measurements taken from air bubbles trapped in ice\n",
      "cores are unreliable, because carbon dioxide is soluble in solid ice.\n",
      "Nor has the temperature always been linked to the concentration of carbon dioxide. The two were\n",
      "uncoupled between about 17 and 43 million years ago. The air then contained less than two-thirds of\n",
      "the present concentration of carbon dioxide (180–240 µmol mol-1 compared with 360 µmol mol -1\n",
      "today), but the climate was up to 6°C warmer than it is today (COWLING, 1999).\n",
      "Nevertheless, it is estimated that the atmospheric carbon dioxide concentration immediately prior to\n",
      "the Industrial Revolution was about 280 µmol mol-1 and that the increase since then has been due\n",
      "entirely to emissions from the burning of fossil fuels. This may not be the case. The solubility of\n",
      "gases, including carbon dioxide, is inversely proportional to the temperature. A rise in temperature,\n",
      "\n",
      "of the International Council for Scientific Unions (ICSU, now called the International Council for\n",
      "Science). There, research scientists, including ecologists and experts on climate and energy-demand\n",
      "modelling, concluded that global warming was a real threat and more research was needed and,\n",
      "supported by environmentalist groups, the topic quickly acquired political influence. This politicization\n",
      "and resultant popular dramatization of a very complex and uncertain issue has attracted criticism\n",
      "(BOEHMER-CHRISTIANSEN, 1994; BOLIN, 1995).\n",
      "Studies of climate forcing begin with estimates of ways in which the chemical composition of the\n",
      "atmosphere may change in the future, to produce an ‘emissions scenario’. This requires a knowledge\n",
      "of the sources from which greenhouse gases are released, the sinks into which they are absorbed, and\n",
      "ways the sinks may respond to increased loading. The oceans are the most important sink for carbon\n",
      "dioxide, but the behaviour of the sinks is incompletely understood and no sink has been identified for\n",
      "a significant fraction of the carbon dioxide known to have been emitted. Measurements of greenhouse-\n",
      "gas concentrations must also distinguish between genuine changes, the ‘signal’, and natural variations,\n",
      "the ‘noise’. Carbon dioxide levels vary seasonally, for example, in response to the growing season\n",
      "for plants.\n",
      "General circulation models (GCMs) are then constructed. These are based on a notional three-\n",
      "dimensional grid placed over the entire Earth. Atmospheric behaviour is calculated according to\n",
      "physical laws for every grid intersection. The input data for each calculation include the state at\n",
      "adjacent grid points as well as data introduced by the modeller, and so they trace the evolution of the\n",
      "atmosphere, simulating the climate. Using the known present state of the atmosphere, the model is\n",
      "used to simulate the climate over several decades and its results compared with actual climate records.\n",
      "\n",
      "per cent (HIDORE AND OLIVER, 1993, p. 166). This is a small deviation, but a decrease of about\n",
      "0.1 per cent sustained over a decade would be sufficient to produce major climatic effects and a 5 per\n",
      "cent decrease might trigger a major glaciation. Cyclical variations in the Earth’s rotation and orbit\n",
      "also alter the solar constant. These are believed to be the major cause of large-scale climatic change,\n",
      "and variations in solar output, marked by changes in sunspot activity, are linked to less dramatic\n",
      "changes, such as the Little Ice Age, a period when average temperatures were lower than at present\n",
      "which lasted from about 1450 to 1880. Some scientists believe that the recent climatic warming and\n",
      "rise in atmospheric carbon dioxide concentration are both wholly due to the marked increase in\n",
      "energy output of the Sun since about 1966 (CALDER, 1999).\n",
      "Figure 2.9 The development of a sea cliff, wave-cut platform, and wave-build terrace\n",
      "\n",
      "Earth Sciences / 79\n",
      "activity and climate so close he described it ‘almost that of a key in a lock’, extending to 3000 BC\n",
      "(EDDY, 1977).\n",
      "Again, the solar influence may be overwhelmed by that from greenhouse gases. David Thomson, a\n",
      "skilled statistician, has analysed data since 1659 and concluded that global temperatures are now\n",
      "linked more closely to atmospheric carbon dioxide concentrations than to sunspot activity or orbital\n",
      "effects (THOMSON, 1985), although his interpretation has been questioned by some climatologists,\n",
      "who think it too simple (KERR, 1995). The idea is now gaining ground that present changes in the\n",
      "atmosphere and climate are more likely to be due to changes in solar output and volcanic eruptions\n",
      "than to human intervention (CALDER, 1999).\n",
      "Debate will continue for some time over what is forcing present climate change, but at least in the\n",
      "past it has clearly been triggered by astronomical events, and when the climate changes it can do\n",
      "so very quickly. At one time it was thought that ice ages begin and end gradually, it taking centuries\n",
      "or longer for the ice sheets to spread. This may be incorrect. According to the ‘snowblitz’ theory,\n",
      "a slight fall in summer temperatures in high latitudes might allow some of the winter snow to\n",
      "survive where in previous years it had melted. The affected areas would then be white, when\n",
      "previously they had been dark, thus increasing albedo and lowering temperature further. In\n",
      "succeeding years, the snow-covered area would increase and temperatures would continue to fall,\n",
      "climatic forcing by the increased albedo accelerating the change by a strongly positive feedback.\n",
      "It might take very little time to move from our present interglacial climates to a full glaciation.\n",
      "Warming can also proceed rapidly, the change from glacial to interglacial perhaps taking no more\n",
      "than a few decades.\n",
      "Stability of the polar ice sheets\n",
      "If the polar ice caps were to melt, the volume of water released into the oceans\n",
      "\n",
      "therefore, will cause dissolved carbon dioxide to bubble out of the oceans. This is called the ‘warm\n",
      "champagne’ effect. Rising temperature will also stimulate aerobic bacteria. Their respiration will\n",
      "release carbon dioxide. This is called the ‘warm beer’ effect (CALDER, 1999).\n",
      "Carbon dioxide is the best-known greenhouse gas, because it is the most abundant of those over\n",
      "which we can exert some control, but it is not the only one. Methane, produced naturally, for example\n",
      "by termites, but also by farmed livestock and from wet-rice farming (present concentration about 1.7\n",
      "ppm), nitrous oxide (0.31 ppm) and tropospheric ozone (0.06 ppm), products from the burning of\n",
      "fuels in furnaces and car engines, and the industrially manufactured compounds CFC-11 (0.00026\n",
      "ppm) and CFC-12 (0.00044 ppm) are also important. The most important of all, however, is water\n",
      "vapour. This enters into the calculations only indirectly, because its concentration varies greatly\n",
      "from place to place and from day to day and because it is strongly affected by temperature. Its\n",
      "influence, therefore, tends to add to those of the other gases and generally varies as they do. Figure\n",
      "2.13 shows the anticipated changes in concentration for carbon dioxide, methane, and CFC-12,\n",
      "which is one of the family of CFC compounds. These increases are based on the (uncertain) assumption\n",
      "that industrial and vehicle emissions are the only source of carbon dioxide.\n",
      "All greenhouse-gas effects are usually expressed as ‘global warming potentials’ (GWPs) which\n",
      "relate them to carbon dioxide. GWPs take account of the wavelengths at which particular molecules\n",
      "absorb, some of which overlap, and the length of time they remain in the atmosphere before\n",
      "decomposing or being deposited at the surface. On this basis, over a 100-year period, with carbon\n",
      "dioxide given a value of 1, methane has a value of 11 (i.e. it is 11 times more effective than\n",
      "carbon dioxide, molecule for molecule), nitrous oxide 270, CFC-11 3400, and CFC-12 7100.\n"
     ]
    }
   ],
   "source": [
    "# An overly complicated one-liner to test what the top 5 most similar chunks are to the question\n",
    "# Use this to make sense of the output of the next cell\n",
    "print(\"\\n\\n\".join([x.page_content for x in vectorstore.similarity_search(\"What is the main cause of global warming?\", k=5)]))"
   ]
  },
  {
   "cell_type": "code",
   "execution_count": 14,
   "metadata": {},
   "outputs": [
    {
     "data": {
      "text/plain": [
       "'The main cause of global warming is debated, with some scientists suggesting it is due to changes in solar output and volcanic eruptions, while others believe it is more likely due to human intervention.'"
      ]
     },
     "execution_count": 14,
     "metadata": {},
     "output_type": "execute_result"
    }
   ],
   "source": [
    "chain.invoke(\"What is the main cause of global warming?\")"
   ]
  },
  {
   "cell_type": "markdown",
   "metadata": {},
   "source": [
    "Try RAG yourself! Take a file of your choice and apply the same concepts. "
   ]
  },
  {
   "cell_type": "code",
   "execution_count": 15,
   "metadata": {},
   "outputs": [
    {
     "name": "stdout",
     "output_type": "stream",
     "text": [
      "SAGE Publications, Ltd.; permission conveyed through Copyright\n",
      "Clearance Center, Inc.\n",
      "File 9.7\n",
      "Figure (1) adapted from “Functional MRI in the investigation of blast-\n",
      "related traumatic brain injury,” by John Graner, Terrence R. Oakes,\n",
      "Louis M. French, and Gerard Riedy. Frontiers in Neurology 4:16. ©\n",
      "2013 by the authors. Creative Commons Attribution 3.0 Unported\n",
      "License.\n",
      "Figure (2) adapted from image provided by Aaron G. Filler, MD, PhD, via\n",
      "Wikicommons (https://commons.wikimedia.org/wiki/File:DTI_Brain_\n",
      "Tractographic_Image_Set.jpg). Creative Commons Attribution—Share\n",
      "Alike 3.0 Unported License.\n",
      "File 9.8\n",
      "Data in Exercise 8b from “Linguistics and agrammatism,” by Sergey\n",
      "Avrutin. GLOT International 5.87–97. © 2001, Blackwell Publishers\n",
      "Ltd. Reprinted with permission of John Wiley & Sons, Inc.\n",
      "Data in Exercises 8c and 8d are excerpts from The shattered mind, by\n",
      "Howard Gardner, © 1974 by Howard Gardner. Used by permission of\n",
      "Alfred A. Knopf, an imprint of the Knopf Doubleday Publishing\n",
      "Group, a division of Penguin Random House LLC. All rights reserved.\n",
      "File 10.1\n",
      "Sections adapted from “Styles,” by Ann D. Zwicky. Styles and variables in\n",
      "English, ed. by Timothy Shopen and Joseph M. Williams. © 1981,\n",
      "Winthrop Publishers (Prentice-Hall).\n",
      "File 10.2\n",
      "Figure (1) © 2006, William Vicars, www.Lifeprint.com. Used with\n",
      "permission.\n",
      "File 10.3\n"
     ]
    }
   ],
   "source": [
    "loader = PyPDFLoader(\"Hope C. Dawson & Antonio Hernandez & Cory Shain - Language Files _ Materials for an Introduction to Language and Linguistics-The Ohio State University Press.pdf\")\n",
    "\n",
    "# The text splitter is used to split the document into chunks\n",
    "# Mess with the parameters to see how it affects the output\n",
    "text_splitter = RecursiveCharacterTextSplitter(\n",
    "    chunk_size=2000,\n",
    "    chunk_overlap=100,\n",
    "    length_function=len,\n",
    "    is_separator_regex=False,\n",
    ")\n",
    "\n",
    "chunks = loader.load_and_split(text_splitter=text_splitter)\n",
    "\n",
    "print(chunks[25].page_content)"
   ]
  },
  {
   "cell_type": "code",
   "execution_count": 17,
   "metadata": {},
   "outputs": [
    {
     "name": "stdout",
     "output_type": "stream",
     "text": [
      "page_content='The Ohio State University Press\n",
      "Columbus' metadata={'source': 'Hope C. Dawson & Antonio Hernandez & Cory Shain - Language Files _ Materials for an Introduction to Language and Linguistics-The Ohio State University Press.pdf', 'page': 5, 'page_label': '6'}\n"
     ]
    }
   ],
   "source": [
    "len(chunks)\n",
    "print(chunks[4])\n",
    "\n",
    "vectorstore = FAISS.from_documents(\n",
    "    chunks, embedding=OpenAIEmbeddings(api_key =api_key)\n",
    ")\n",
    "\n",
    "retriever = vectorstore.as_retriever(k=5)\n",
    "\n",
    "template = \"\"\"Answer the question based only on the following context:\n",
    "{context}\n",
    "\n",
    "Question: {question}\n",
    "\"\"\"\n",
    "prompt = PromptTemplate.from_template(template)"
   ]
  },
  {
   "cell_type": "code",
   "execution_count": 18,
   "metadata": {},
   "outputs": [],
   "source": [
    "chain = (\n",
    "    {\"context\": retriever, \"question\": RunnablePassthrough()}\n",
    "    | prompt\n",
    "    | model\n",
    "    | StrOutputParser()\n",
    ")"
   ]
  },
  {
   "cell_type": "code",
   "execution_count": 19,
   "metadata": {},
   "outputs": [
    {
     "name": "stdout",
     "output_type": "stream",
     "text": [
      "1.\n",
      "2.\n",
      "3.\n",
      "4.\n",
      "5.\n",
      "6.\n",
      "FILE 1.6\n",
      "Practice\n",
      "File 1.1—Introducing the Study of Language\n",
      "Discussion Questions\n",
      "Look at the list of “surprising but true” facts about language given in\n",
      "Section 1.1.2. Which items on the list were things you had heard before,\n",
      "and which were new to you? Which really were surprising? What about\n",
      "those items surprised you? Do you know any language-related trivia that\n",
      "can be added to the list?\n",
      "Look at the list of “common misconceptions” about language given in\n",
      "Section 1.1.3. How many of these beliefs are ones you have held at some\n",
      "point or have heard other people express? For each, how do you think that\n",
      "it came to be widely believed? What sort of evidence do you think\n",
      "linguists might have that causes them to say that each is false?\n",
      "File 1.2—What You Know When You Know a Language\n",
      "Exercises\n",
      "Explain in a few sentences why linguists tend to ignore speech\n",
      "performance errors in their study of linguistic competence.\n",
      "Look back at the illustration on the title page of this chapter. What is\n",
      "missing from this picture from a communication standpoint? List a few\n",
      "steps that have to happen in order for the person on the right to receive the\n",
      "message “There is a platypus in the bathtub.”\n",
      "Look back at the illustration on the title page of this chapter. List at least\n",
      "three messages other than “There is a platypus in the bathtub” that the\n",
      "person on the left might be trying to convey, based on the illustration of the\n",
      "concept he has in his mind.\n",
      "Give five descriptive statements about your native language.\n",
      "\n",
      "1.1.2\n",
      "(1)\n",
      "(2)\n",
      "(3)\n",
      "(4)\n",
      "(5)\n",
      "(6)\n",
      "(7)\n",
      "younger. All languages vary, and they reflect a speaker’s individual identity\n",
      "as well as various aspects of the society and culture in which they live.\n",
      "Not only does studying language reveal something interesting about\n",
      "human society, but there are also many practical applications of the study of\n",
      "language that can have a significant effect on people’s everyday lives. For\n",
      "example, studying languages allows us to develop better teaching tools for\n",
      "language instruction, improve the ways that computers interact with\n",
      "humans using language, and more effectively treat people with speech and\n",
      "language disorders.\n",
      "Some Surprising but True Things about Language\n",
      "You have been using one or more languages for most of your life, so you\n",
      "may think that you know most of what there is to know about language.\n",
      "However, you will likely find some of the following facts about language\n",
      "surprising.\n",
      "There are languages that don’t have words for right and left but use\n",
      "words for cardinal directions (like north and west) instead (see Chapter\n",
      "11).\n",
      "Some aspects of language appear to be innate (see Chapter 8).\n",
      "There are more than 7,000 languages spoken in the world, but 90% of\n",
      "the population speaks only 10% of them.\n",
      "Some languages, such as Turkish, have special verb forms used for\n",
      "gossip and hearsay.\n",
      "Some languages structure sentences by putting the object first and the\n",
      "subject last (see Chapter 5).\n",
      "In some communities, such as the Al-Sayyid Bedouin tribe in southern\n",
      "Israel, all or most members of the community can use a signed\n",
      "language (see File 1.5).\n",
      "There is nothing inherent about most words that gives them their\n",
      "meaning; any group of speech sounds could have any meaning.\n",
      "\n",
      "11.2.1\n",
      "FILE 11.2\n",
      "Language and Thought\n",
      "What Is Linguistic Relativity?\n",
      "As most people who have studied another language know, different\n",
      "languages grammatically distinguish different kinds of things (see File 5.2).\n",
      "Some languages mark the grammatical gender of all nouns and adjectives;\n",
      "some languages do not mark gender at all. Some languages have two or\n",
      "three grammatical genders or noun classes; some languages have as many\n",
      "as twenty. Some languages distinguish several tenses grammatically; some\n",
      "have no grammatically marked tenses. Speakers of some languages express\n",
      "spatial relationships in absolute terms (the car is north of the house); some\n",
      "express spatial relationships relatively (the car is to the right of the house).\n",
      "Some languages have counting systems that consist of ‘one,’ ‘two,’ and\n",
      "‘many’; some languages have much more elaborate inventories of numbers.\n",
      "Do these differences between languages also indicate differences in the\n",
      "thoughts of their speakers? Does speaking a language without tense markers\n",
      "mean you will think about time differently? Does using politically correct\n",
      "terminology change speakers’ perception of women, people with\n",
      "disabilities, and others? Does the grammatical gender of a word influence\n",
      "how we think of it?\n",
      "In some cases, the answer to this question seems to be yes. A study by\n",
      "Lera Boroditsky (2003) using speakers of German and Spanish showed that\n",
      "the grammatical gender of an inanimate object can influence the way\n",
      "speakers consider it. When asked to describe a key, for which the German\n",
      "word is masculine and the Spanish word is feminine, speakers’ descriptions\n",
      "were quite different. German speakers described the key as hard, heavy,\n",
      "\n",
      "1.1\n",
      "1.2\n",
      "1.3\n",
      "FILE 1.0\n",
      "What Is Language?\n",
      "Language touches every part of our lives: it gives words to our thoughts,\n",
      "voice to our ideas, and expression to our feelings. It is a rich and varied\n",
      "human ability—one that we can use effortlessly, that children seem to\n",
      "acquire automatically, and that linguists have found to be complex yet\n",
      "systematic and describable. In this book, language will be the object of our\n",
      "study.\n",
      "Contents\n",
      "Introducing the Study of Language\n",
      "Introduces the study of language, discusses some facts and\n",
      "misconceptions about language, outlines underlying themes for\n",
      "the entire book, and provides information about how to get the\n",
      "most out of this book.\n",
      "What You Know When You Know a Language\n",
      "Introduces the content of what a language user knows, outlines\n",
      "the communication chain and how components of linguistic\n",
      "structure fit into it, and introduces the idea of using descriptive\n",
      "generalizations to study language.\n",
      "Other (Non-Essential) Aspects of Knowing a Language\n",
      "Addresses writing and prescriptive rules as two aspects of\n",
      "language use that are common in societies but not necessary to\n",
      "knowing a language, and explains why they are not typically the\n",
      "focus of linguistic study.\n",
      "\n",
      "Studies in social dialectology, ed. by Peter Auer and Aldo di Luizo, 259–92. Berlin: Mouton de\n",
      "Gruyter.\n",
      "Everett, David L. 2005. Cultural constraints on grammar and cognition in Pirahã: Another look at the\n",
      "design features of human language. Current Anthropology 46(4).621–46.\n",
      "Fantini, Alvino E. 1985. Language acquisition of a bilingual child: A sociolinguistic perspective (to\n",
      "age ten). Clevedon: Multilingual Matters.\n",
      "Fasold, Ralph W., and Jeff Connor-Linton. 2006. An introduction to language and linguistics.\n",
      "Cambridge: Cambridge University Press.\n",
      "Fernald, Anne. 1992. Human maternal vocalizations to infants as biologically relevant signals: An\n",
      "evolutionary perspective. The adapted mind: Evolutionary psychology and the generation of\n",
      "culture, ed. by Jerome H. Barkow, Leda Cosmides, and John Tooby, 391–428. Oxford: Oxford\n",
      "University Press.\n",
      "Fortson, Benjamin W., IV. 2009. Indo-European language and culture: An introduction. 2nd edn.\n",
      "Oxford: Blackwell.\n",
      "Fought, Carmen. 2006. Talkin’ with mi gente (Chicano English). American voices: How dialects\n",
      "differ from coast to coast, ed. by Walt Wolfram and Ben Ward, 233–37. Oxford: Blackwell.\n",
      "Fraser, Graham. 2006. Sorry, I don’t speak French: Confronting the Canadian crisis that won’t go\n",
      "away. Toronto: McClelland and Stewart.\n",
      "Frazier, Lyn. 1987. Sentence processing: A tutorial review. Attention and performance XII: The\n",
      "psychology of reading, ed. by Max Coltheart, 559–86. East Sussex: Lawrence Erlbaum.\n",
      "Fromkin, Victoria A. 1971. The non-anomalous nature of anomalous utterances. Language 47.27–52.\n",
      "Fromkin, Victoria A. 1988. Sign languages: Evidence for language universals and the linguistic\n",
      "capacity of the brain. Sign Language Studies 59(Summer).115–27.\n",
      "Fromkin, Victoria, and Robert Rodman. 1978. An introduction to language. 2nd edn. Fort Worth:\n",
      "Harcourt Collins. [10th edn., by Victoria Fromkin, Robert Rodman, and Nina Hyams,\n",
      "published 2014. Boston: Wadsworth, Cengage Learning.]\n"
     ]
    }
   ],
   "source": [
    "print(\"\\n\\n\".join([x.page_content for x in vectorstore.similarity_search(\"What are the linguistic facts of life?\", k=5)]))"
   ]
  },
  {
   "cell_type": "code",
   "execution_count": 20,
   "metadata": {},
   "outputs": [
    {
     "data": {
      "text/plain": [
       "'- There are languages that don’t have words for right and left but use words for cardinal directions instead.\\n- Some aspects of language appear to be innate.\\n- There are more than 7,000 languages spoken in the world, but 90% of the population speaks only 10% of them.\\n- Some languages, such as Turkish, have special verb forms used for gossip and hearsay.\\n- Some languages structure sentences by putting the object first and the subject last.\\n- In some communities, all or most members can use a signed language.\\n- There is nothing inherent about most words that gives them their meaning.'"
      ]
     },
     "execution_count": 20,
     "metadata": {},
     "output_type": "execute_result"
    }
   ],
   "source": [
    "chain.invoke(\"What are the linguistic facts of life?\")"
   ]
  },
  {
   "cell_type": "markdown",
   "metadata": {},
   "source": [
    "Mess with the splitting method ([LangChain splitters](https://python.langchain.com/docs/modules/data_connection/document_transformers/)), the parameters to the splitter, and the number of retrieved chunks that are injected into the LLM's prompt as context. These will significantly impact how the LLM performs and answers questions."
   ]
  },
  {
   "cell_type": "markdown",
   "metadata": {},
   "source": [
    "## Advanced RAG"
   ]
  },
  {
   "cell_type": "markdown",
   "metadata": {},
   "source": [
    "We leave this as a (optional) challenge for you. How can we implement advanced RAG methods in LangChain?\n",
    "\n",
    "1. Find some data that you would like to perform RAG over. \n",
    "2. Implement some form of advanced search with LangChain. \n",
    "\n",
    "Note: The LangChain [EnsembleRetriever](https://python.langchain.com/docs/modules/data_connection/retrievers/ensemble) may be of use."
   ]
  },
  {
   "cell_type": "code",
   "execution_count": null,
   "metadata": {},
   "outputs": [],
   "source": [
    "pass"
   ]
  }
 ],
 "metadata": {
  "kernelspec": {
   "display_name": "env",
   "language": "python",
   "name": "python3"
  },
  "language_info": {
   "codemirror_mode": {
    "name": "ipython",
    "version": 3
   },
   "file_extension": ".py",
   "mimetype": "text/x-python",
   "name": "python",
   "nbconvert_exporter": "python",
   "pygments_lexer": "ipython3",
   "version": "3.12.7"
  }
 },
 "nbformat": 4,
 "nbformat_minor": 2
}
